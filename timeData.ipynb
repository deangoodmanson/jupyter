{
 "cells": [
  {
   "cell_type": "code",
   "execution_count": 2,
   "metadata": {},
   "outputs": [],
   "source": [
    "import pandas as pd\n",
    "import numpy as np\n",
    "\n",
    "import random\n",
    "import string\n",
    "\n",
    "from datetime import timedelta"
   ]
  },
  {
   "cell_type": "code",
   "execution_count": 3,
   "metadata": {},
   "outputs": [],
   "source": [
    "\n",
    "def generateData(start=\"20180101T00:00:00Z\", count=100, columns=1, maxSeconds=108000):\n",
    "    nextDate = pd.Timestamp(\"20180101T00:00:00Z\")\n",
    "    data = []\n",
    "    for i in range(0,count):\n",
    "        nextDate = nextDate + timedelta(seconds=random.randint(0,maxSeconds))\n",
    "        data.append([nextDate] +  [random.choice(string.ascii_letters).lower() for i in range(0,columns)]) \n",
    "    return data "
   ]
  },
  {
   "cell_type": "code",
   "execution_count": 4,
   "metadata": {},
   "outputs": [
    {
     "name": "stdout",
     "output_type": "stream",
     "text": [
      "[Timestamp('2018-01-01 00:04:08+0000', tz='UTC'), 'n', 'h', 't'] [Timestamp('2018-01-18 06:20:05+0000', tz='UTC'), 'e', 's', 'v']\n"
     ]
    }
   ],
   "source": [
    "logdata = generateData(count=10000,columns=3,maxSeconds=300)\n",
    "\n",
    "print(logdata[0],logdata[-1])"
   ]
  },
  {
   "cell_type": "code",
   "execution_count": 5,
   "metadata": {},
   "outputs": [
    {
     "data": {
      "text/html": [
       "<div>\n",
       "<style scoped>\n",
       "    .dataframe tbody tr th:only-of-type {\n",
       "        vertical-align: middle;\n",
       "    }\n",
       "\n",
       "    .dataframe tbody tr th {\n",
       "        vertical-align: top;\n",
       "    }\n",
       "\n",
       "    .dataframe thead th {\n",
       "        text-align: right;\n",
       "    }\n",
       "</style>\n",
       "<table border=\"1\" class=\"dataframe\">\n",
       "  <thead>\n",
       "    <tr style=\"text-align: right;\">\n",
       "      <th></th>\n",
       "      <th>datestamp</th>\n",
       "      <th>spam</th>\n",
       "      <th>eggs</th>\n",
       "      <th>hash</th>\n",
       "    </tr>\n",
       "  </thead>\n",
       "  <tbody>\n",
       "    <tr>\n",
       "      <th>0</th>\n",
       "      <td>2018-01-01 00:04:08+00:00</td>\n",
       "      <td>n</td>\n",
       "      <td>h</td>\n",
       "      <td>t</td>\n",
       "    </tr>\n",
       "    <tr>\n",
       "      <th>1</th>\n",
       "      <td>2018-01-01 00:04:41+00:00</td>\n",
       "      <td>c</td>\n",
       "      <td>n</td>\n",
       "      <td>x</td>\n",
       "    </tr>\n",
       "    <tr>\n",
       "      <th>2</th>\n",
       "      <td>2018-01-01 00:09:14+00:00</td>\n",
       "      <td>o</td>\n",
       "      <td>z</td>\n",
       "      <td>v</td>\n",
       "    </tr>\n",
       "    <tr>\n",
       "      <th>3</th>\n",
       "      <td>2018-01-01 00:10:57+00:00</td>\n",
       "      <td>g</td>\n",
       "      <td>x</td>\n",
       "      <td>g</td>\n",
       "    </tr>\n",
       "    <tr>\n",
       "      <th>4</th>\n",
       "      <td>2018-01-01 00:13:58+00:00</td>\n",
       "      <td>p</td>\n",
       "      <td>c</td>\n",
       "      <td>h</td>\n",
       "    </tr>\n",
       "  </tbody>\n",
       "</table>\n",
       "</div>"
      ],
      "text/plain": [
       "                  datestamp spam eggs hash\n",
       "0 2018-01-01 00:04:08+00:00    n    h    t\n",
       "1 2018-01-01 00:04:41+00:00    c    n    x\n",
       "2 2018-01-01 00:09:14+00:00    o    z    v\n",
       "3 2018-01-01 00:10:57+00:00    g    x    g\n",
       "4 2018-01-01 00:13:58+00:00    p    c    h"
      ]
     },
     "execution_count": 5,
     "metadata": {},
     "output_type": "execute_result"
    }
   ],
   "source": [
    "data = pd.DataFrame(logdata,columns=['datestamp','spam','eggs','hash'])\n",
    "data.head()"
   ]
  },
  {
   "cell_type": "code",
   "execution_count": 6,
   "metadata": {},
   "outputs": [
    {
     "name": "stdout",
     "output_type": "stream",
     "text": [
      "                           spam  eggs  hash\n",
      "datestamp                                  \n",
      "2018-01-01 00:04:08+00:00   0.0   0.0   0.0\n",
      "2018-01-01 00:04:41+00:00   0.0   0.0   0.0\n",
      "2018-01-01 00:09:14+00:00   0.0   0.0   0.0\n",
      "2018-01-01 00:10:57+00:00   0.0   0.0   0.0\n",
      "2018-01-01 00:13:58+00:00   0.0   0.0   1.0\n",
      "                           spam  eggs  hash\n",
      "datestamp                                  \n",
      "2018-01-01 00:00:00+00:00  17.0  20.0  16.0\n",
      "2018-01-02 00:00:00+00:00  21.0  24.0  18.0\n",
      "2018-01-03 00:00:00+00:00  21.0  29.0  22.0\n",
      "2018-01-04 00:00:00+00:00  23.0  19.0  23.0\n",
      "2018-01-05 00:00:00+00:00  25.0  24.0  30.0\n"
     ]
    },
    {
     "name": "stderr",
     "output_type": "stream",
     "text": [
      "/home/dean/anaconda3/lib/python3.7/site-packages/pandas/core/arrays/datetimes.py:1172: UserWarning: Converting to PeriodArray/Index representation will drop timezone information.\n",
      "  \"will drop timezone information.\", UserWarning)\n"
     ]
    },
    {
     "data": {
      "text/plain": [
       "<matplotlib.axes._subplots.AxesSubplot at 0x7ff37edb7e10>"
      ]
     },
     "execution_count": 6,
     "metadata": {},
     "output_type": "execute_result"
    }
   ],
   "source": [
    "cols = ['spam','eggs','hash']\n",
    "s = data.copy()\n",
    "#s = data[data.spam=='s' and data.eggs == 'e' and data.hash == 'h'].copy()\n",
    "#s = s[['datestamp','spam','eggs','hash']]\n",
    "#s['spam'] = s['spam'].map({'s': 1.0})\n",
    "for col in cols:\n",
    "    s[col] = s[col].map({col[0]:1.0})\n",
    "\n",
    "a= \"50\"\n",
    "    \n",
    "s.index=s['datestamp']\n",
    "del s['datestamp']\n",
    "s.fillna(0,inplace=True)\n",
    "print(s.head())\n",
    "perDay = s.resample('D').sum()\n",
    "print(perDay.head())\n",
    "perDay.plot()"
   ]
  },
  {
   "cell_type": "code",
   "execution_count": 7,
   "metadata": {},
   "outputs": [
    {
     "data": {
      "text/html": [
       "<div>\n",
       "<style scoped>\n",
       "    .dataframe tbody tr th:only-of-type {\n",
       "        vertical-align: middle;\n",
       "    }\n",
       "\n",
       "    .dataframe tbody tr th {\n",
       "        vertical-align: top;\n",
       "    }\n",
       "\n",
       "    .dataframe thead th {\n",
       "        text-align: right;\n",
       "    }\n",
       "</style>\n",
       "<table border=\"1\" class=\"dataframe\">\n",
       "  <thead>\n",
       "    <tr style=\"text-align: right;\">\n",
       "      <th></th>\n",
       "      <th>spam</th>\n",
       "      <th>eggs</th>\n",
       "      <th>hash</th>\n",
       "    </tr>\n",
       "  </thead>\n",
       "  <tbody>\n",
       "    <tr>\n",
       "      <th>count</th>\n",
       "      <td>10000.000000</td>\n",
       "      <td>10000.000000</td>\n",
       "      <td>10000.000000</td>\n",
       "    </tr>\n",
       "    <tr>\n",
       "      <th>mean</th>\n",
       "      <td>0.038100</td>\n",
       "      <td>0.039400</td>\n",
       "      <td>0.038200</td>\n",
       "    </tr>\n",
       "    <tr>\n",
       "      <th>std</th>\n",
       "      <td>0.191447</td>\n",
       "      <td>0.194554</td>\n",
       "      <td>0.191688</td>\n",
       "    </tr>\n",
       "    <tr>\n",
       "      <th>min</th>\n",
       "      <td>0.000000</td>\n",
       "      <td>0.000000</td>\n",
       "      <td>0.000000</td>\n",
       "    </tr>\n",
       "    <tr>\n",
       "      <th>25%</th>\n",
       "      <td>0.000000</td>\n",
       "      <td>0.000000</td>\n",
       "      <td>0.000000</td>\n",
       "    </tr>\n",
       "    <tr>\n",
       "      <th>50%</th>\n",
       "      <td>0.000000</td>\n",
       "      <td>0.000000</td>\n",
       "      <td>0.000000</td>\n",
       "    </tr>\n",
       "    <tr>\n",
       "      <th>75%</th>\n",
       "      <td>0.000000</td>\n",
       "      <td>0.000000</td>\n",
       "      <td>0.000000</td>\n",
       "    </tr>\n",
       "    <tr>\n",
       "      <th>max</th>\n",
       "      <td>1.000000</td>\n",
       "      <td>1.000000</td>\n",
       "      <td>1.000000</td>\n",
       "    </tr>\n",
       "  </tbody>\n",
       "</table>\n",
       "</div>"
      ],
      "text/plain": [
       "               spam          eggs          hash\n",
       "count  10000.000000  10000.000000  10000.000000\n",
       "mean       0.038100      0.039400      0.038200\n",
       "std        0.191447      0.194554      0.191688\n",
       "min        0.000000      0.000000      0.000000\n",
       "25%        0.000000      0.000000      0.000000\n",
       "50%        0.000000      0.000000      0.000000\n",
       "75%        0.000000      0.000000      0.000000\n",
       "max        1.000000      1.000000      1.000000"
      ]
     },
     "execution_count": 7,
     "metadata": {},
     "output_type": "execute_result"
    }
   ],
   "source": [
    "s.describe()"
   ]
  },
  {
   "cell_type": "code",
   "execution_count": null,
   "metadata": {},
   "outputs": [],
   "source": []
  },
  {
   "cell_type": "code",
   "execution_count": null,
   "metadata": {},
   "outputs": [],
   "source": []
  },
  {
   "cell_type": "code",
   "execution_count": null,
   "metadata": {},
   "outputs": [],
   "source": []
  }
 ],
 "metadata": {
  "kernelspec": {
   "display_name": "Python 3",
   "language": "python",
   "name": "python3"
  },
  "language_info": {
   "codemirror_mode": {
    "name": "ipython",
    "version": 3
   },
   "file_extension": ".py",
   "mimetype": "text/x-python",
   "name": "python",
   "nbconvert_exporter": "python",
   "pygments_lexer": "ipython3",
   "version": "3.7.3"
  },
  "toc": {
   "base_numbering": 1,
   "nav_menu": {},
   "number_sections": false,
   "sideBar": false,
   "skip_h1_title": false,
   "title_cell": "Table of Contents",
   "title_sidebar": "Contents",
   "toc_cell": false,
   "toc_position": {},
   "toc_section_display": false,
   "toc_window_display": false
  }
 },
 "nbformat": 4,
 "nbformat_minor": 2
}
