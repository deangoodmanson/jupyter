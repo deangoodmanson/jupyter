{
 "cells": [
  {
   "cell_type": "markdown",
   "id": "94265e0e",
   "metadata": {},
   "source": [
    "# Do It Today, AKA Magic 8 Ball Reminder with Log\n",
    "\n",
    "## Dead simple: \n",
    "\n",
    "Just make sure you do this once a day\n",
    "\n",
    "Not “morning, night, recurring” - if you need that put it on a phone alarm\n"
   ]
  },
  {
   "cell_type": "code",
   "execution_count": 90,
   "id": "13622a7a",
   "metadata": {},
   "outputs": [],
   "source": [
    "import random\n",
    "from datetime import datetime, date\n",
    "\n",
    "import ipywidgets as widgets\n",
    "\n",
    "\n",
    "def load_items(path=None):\n",
    "    items = []\n",
    "    fullpath = path or \"DoItToday.txt\"\n",
    "    with open(fullpath) as source:\n",
    "        items = source.read().split('\\n')\n",
    "        items = [i.strip() for i in items if i.strip()]\n",
    "    return items    \n",
    "    \n",
    "def pick_item(items):\n",
    "    if items:\n",
    "        return random.choice(items)\n",
    "    else:\n",
    "        return ''\n",
    "\n",
    "def finished_item(items, item):\n",
    "    if not items or not item:\n",
    "        return items\n",
    "    now = datetime.utcnow()\n",
    "    with open(f'DidIt{now.date().isoformat()}.txt' ,'a') as done_file:\n",
    "        done_file.write(f\"{now.isoformat()}\\t{item}\\n\")\n",
    "    items.remove(item) # destructive, likely should edit a modified and return that one!\n",
    "    return items"
   ]
  },
  {
   "cell_type": "code",
   "execution_count": 91,
   "id": "43187f03",
   "metadata": {},
   "outputs": [
    {
     "name": "stdout",
     "output_type": "stream",
     "text": [
      "It's a brand new day: 2021-05-05\n",
      "You have 12 items to do sometime today!\n"
     ]
    }
   ],
   "source": [
    "# initialize today\n",
    "now = datetime.utcnow()\n",
    "today = now.date()\n",
    "stuff = load_items()\n",
    "print(f\"It's a brand new day: {today.isoformat()}\")\n",
    "print(f\"You have {len(stuff)} items to do sometime today!\")"
   ]
  },
  {
   "cell_type": "code",
   "execution_count": 88,
   "id": "446b903d",
   "metadata": {},
   "outputs": [
    {
     "data": {
      "application/vnd.jupyter.widget-view+json": {
       "model_id": "89648c75ff4c47fbb144c181506051f0",
       "version_major": 2,
       "version_minor": 0
      },
      "text/plain": [
       "Button(description='Next', style=ButtonStyle())"
      ]
     },
     "metadata": {},
     "output_type": "display_data"
    },
    {
     "data": {
      "application/vnd.jupyter.widget-view+json": {
       "model_id": "ebacb5ce7cd44f629c06b76ed5160dab",
       "version_major": 2,
       "version_minor": 0
      },
      "text/plain": [
       "Text(value='')"
      ]
     },
     "metadata": {},
     "output_type": "display_data"
    },
    {
     "data": {
      "application/vnd.jupyter.widget-view+json": {
       "model_id": "04f8c05ebff6426680a4cab3f964c4b2",
       "version_major": 2,
       "version_minor": 0
      },
      "text/plain": [
       "Button(description='Did It', style=ButtonStyle())"
      ]
     },
     "metadata": {},
     "output_type": "display_data"
    }
   ],
   "source": [
    "# Run Today\n",
    "btn_next = widgets.Button(description='Next')\n",
    "txt_item = widgets.Text()\n",
    "btn_did_it = widgets.Button(description='Did It')\n",
    "\n",
    "def click_next(b):\n",
    "    item = pick_item(stuff)\n",
    "    if not item:\n",
    "        print(\"TODAY IS A DONE DAY!\")\n",
    "        txt_item.value = ''\n",
    "    else:    \n",
    "        txt_item.value = item\n",
    "\n",
    "def click_did_it(b):\n",
    "    if txt_item.value:\n",
    "        finished_item(stuff, txt_item.value)\n",
    "        txt_item.value = ''\n",
    "    \n",
    "btn_next.on_click(click_next)\n",
    "btn_did_it.on_click(click_did_it)\n",
    "\n",
    "display(btn_next,txt_item,btn_did_it)"
   ]
  },
  {
   "cell_type": "code",
   "execution_count": null,
   "id": "f1406ed1",
   "metadata": {},
   "outputs": [],
   "source": []
  },
  {
   "cell_type": "code",
   "execution_count": null,
   "id": "f0152d81",
   "metadata": {},
   "outputs": [],
   "source": []
  },
  {
   "cell_type": "raw",
   "id": "2be06d57",
   "metadata": {},
   "source": [
    "File contents example:\n",
    "    \n",
    "    \n",
    "Brush Teeth\n",
    "Check Email\n",
    "Check Slack\n",
    "Check Discord\n",
    "Check Facebook\n",
    "\n",
    "Listen to a Pocket Article\n",
    "Affirm wife\n",
    "Check in with God\n",
    "Clean portion of house\n",
    "Text son\n",
    "Take a vitamin\n",
    "\n",
    "  \n",
    "Consume some Scripture"
   ]
  },
  {
   "cell_type": "code",
   "execution_count": 72,
   "id": "990f487e",
   "metadata": {},
   "outputs": [
    {
     "name": "stdout",
     "output_type": "stream",
     "text": [
      "Brush Teeth\n",
      "Affirm wife\n",
      "Check in with God\n",
      "Check Discord\n",
      "Check Slack\n",
      "Consume some Scripture\n",
      "Clean portion of house\n",
      "Text son\n",
      "Check Facebook\n",
      "Take a vitamin\n",
      "Listen to a Pocket Article\n",
      "Check Email\n",
      "2021-05-05T02:43:04.480560\tBrush Teeth\n",
      "2021-05-05T02:43:04.481258\tAffirm wife\n",
      "2021-05-05T02:43:04.481631\tCheck in with God\n",
      "2021-05-05T02:43:04.481756\tCheck Discord\n",
      "2021-05-05T02:43:04.481872\tCheck Slack\n",
      "2021-05-05T02:43:04.481979\tConsume some Scripture\n",
      "2021-05-05T02:43:04.482095\tClean portion of house\n",
      "2021-05-05T02:43:04.482199\tText son\n",
      "2021-05-05T02:43:04.482308\tCheck Facebook\n",
      "2021-05-05T02:43:04.482416\tTake a vitamin\n",
      "2021-05-05T02:43:04.482522\tListen to a Pocket Article\n",
      "2021-05-05T02:43:04.482629\tCheck Email\n",
      "\n"
     ]
    }
   ],
   "source": [
    "# example/test\n",
    "stuff = load_items()\n",
    "while stuff:\n",
    "    item = pick_item(stuff)\n",
    "    print(item)\n",
    "    stuff = finished_item(stuff, item)\n",
    "    \n",
    "with open(f'DidIt{now.date().isoformat()}.txt' ,'r') as done_file:\n",
    "    print(done_file.read())"
   ]
  },
  {
   "cell_type": "code",
   "execution_count": null,
   "id": "f7ffde0f",
   "metadata": {},
   "outputs": [],
   "source": [
    "\n"
   ]
  },
  {
   "cell_type": "code",
   "execution_count": null,
   "id": "8c9d4c63",
   "metadata": {},
   "outputs": [],
   "source": []
  }
 ],
 "metadata": {
  "kernelspec": {
   "display_name": "Python 3",
   "language": "python",
   "name": "python3"
  },
  "language_info": {
   "codemirror_mode": {
    "name": "ipython",
    "version": 3
   },
   "file_extension": ".py",
   "mimetype": "text/x-python",
   "name": "python",
   "nbconvert_exporter": "python",
   "pygments_lexer": "ipython3",
   "version": "3.7.6"
  }
 },
 "nbformat": 4,
 "nbformat_minor": 5
}
